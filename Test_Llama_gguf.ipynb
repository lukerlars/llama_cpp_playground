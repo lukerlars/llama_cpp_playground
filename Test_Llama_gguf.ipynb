{
  "nbformat": 4,
  "nbformat_minor": 0,
  "metadata": {
    "colab": {
      "provenance": [],
      "machine_shape": "hm",
      "gpuType": "A100",
      "mount_file_id": "10s5OZH825xVa2bRARCCc0IQnnc0YD8iK",
      "authorship_tag": "ABX9TyMhV1nmYvvjHlUDN49ou2gF",
      "include_colab_link": true
    },
    "kernelspec": {
      "name": "python3",
      "display_name": "Python 3"
    },
    "language_info": {
      "name": "python"
    },
    "accelerator": "GPU"
  },
  "cells": [
    {
      "cell_type": "markdown",
      "metadata": {
        "id": "view-in-github",
        "colab_type": "text"
      },
      "source": [
        "<a href=\"https://colab.research.google.com/github/lukerlars/llama_cpp_playground/blob/main/Test_Llama_gguf.ipynb\" target=\"_parent\"><img src=\"https://colab.research.google.com/assets/colab-badge.svg\" alt=\"Open In Colab\"/></a>"
      ]
    },
    {
      "cell_type": "code",
      "execution_count": null,
      "metadata": {
        "id": "xYxSEWrkPm3v"
      },
      "outputs": [],
      "source": [
        "# install necessary packages\n",
        "\n",
        "# %pip install llama-cpp-python\n",
        "\n",
        "%%capture long_output\n",
        "\n",
        "!CMAKE_ARGS=\"-DLLAMA_CUBLAS=on\" FORCE_CMAKE=1 pip install llama-cpp-python --force-reinstall --upgrade --no-cache-dir --verbose\n",
        "\n",
        "%pip install huggingface-hub>=0.17.1\n",
        "\n"
      ]
    },
    {
      "cell_type": "code",
      "source": [
        "# Imports\n",
        "from llama_cpp import Llama\n",
        "import os"
      ],
      "metadata": {
        "id": "y730Q3W2P_e7"
      },
      "execution_count": 40,
      "outputs": []
    },
    {
      "cell_type": "code",
      "source": [
        "# Mount drive\n",
        "from google.colab import drive\n",
        "drive.mount('/content/drive')\n",
        "\n",
        "# Change wokring dir to repo stored in drive\n",
        "# ! cd drive/MyDrive && git clone https://github.com/lukerlars/llama_cpp_playground\n",
        "drive_path = \"drive/MyDrive/llama_cpp_playground\"\n",
        "vm_notebook_path = '/content/Test_Llama_gguf.ipynb'\n",
        "os.chdir(drive_path)"
      ],
      "metadata": {
        "colab": {
          "base_uri": "https://localhost:8080/"
        },
        "id": "7IxgCAfnSN8P",
        "outputId": "5d0a085a-466a-4854-e67c-03d7ceafde1f"
      },
      "execution_count": 41,
      "outputs": [
        {
          "output_type": "stream",
          "name": "stdout",
          "text": [
            "Drive already mounted at /content/drive; to attempt to forcibly remount, call drive.mount(\"/content/drive\", force_remount=True).\n"
          ]
        }
      ]
    },
    {
      "cell_type": "code",
      "source": [
        "vm_path = '/content/'\n",
        "os.listdir(vm_path)"
      ],
      "metadata": {
        "colab": {
          "base_uri": "https://localhost:8080/"
        },
        "id": "QDaxLu9Q7q5k",
        "outputId": "1fae1f44-655a-40ad-f26f-2b7ceab06751"
      },
      "execution_count": 48,
      "outputs": [
        {
          "output_type": "execute_result",
          "data": {
            "text/plain": [
              "['.config', '=0.17.1', 'drive', 'llama_cpp_playground', 'sample_data']"
            ]
          },
          "metadata": {},
          "execution_count": 48
        }
      ]
    },
    {
      "cell_type": "markdown",
      "source": [
        "The models can be found at\n",
        "\n",
        "https://huggingface.co/TheBloke//Llama-2-7b-Chat-GGUF/resolve/main/llama-2-7b-chat.Q2_K.gguf\n"
      ],
      "metadata": {
        "id": "fN5nf3OJfFJx"
      }
    },
    {
      "cell_type": "code",
      "source": [
        "# change working directory\n",
        "# ! cd /content/drive/MyDrive/Llama\n",
        "\n",
        "# Download model\n",
        "# ! huggingface-cli download TheBloke/Llama-2-13B-GGUF llama-2-13b.Q4_K_M.gguf --local-dir '/content/drive/MyDrive/Llama' --local-dir-use-symlinks False\n"
      ],
      "metadata": {
        "id": "LUQHnJA2Rfrx"
      },
      "execution_count": 12,
      "outputs": []
    },
    {
      "cell_type": "code",
      "source": [
        "# Creat model instance\n",
        "\n",
        "# llm = Llama(model_path=\"/content/drive/MyDrive/Llama/llama-2-7b-chat.Q2_K.gguf\") # Small model\n",
        "\n",
        "\n",
        "n_gpu_layers = 40  # Change this value based on your model and your GPU VRAM pool.\n",
        "n_batch = 512  # Should be between 1 and n_ctx, consider the amount of VRAM in your GPU.\n",
        "\n",
        "# Make sure the model path is correct for your system!\n",
        "llm = Llama(\n",
        "    model_path=\"/content/drive/MyDrive/Llama/llama-2-13b.Q4_K_M.gguf\",\n",
        "    n_gpu_layers=n_gpu_layers,\n",
        "    n_batch=n_batch\n",
        ")\n",
        "\n",
        "\n",
        "\n"
      ],
      "metadata": {
        "colab": {
          "base_uri": "https://localhost:8080/"
        },
        "id": "yfmk8O8zUKPZ",
        "outputId": "09201dff-7b6f-43ce-930f-57d8e0d44329"
      },
      "execution_count": 16,
      "outputs": [
        {
          "output_type": "stream",
          "name": "stderr",
          "text": [
            "AVX = 1 | AVX2 = 1 | AVX512 = 0 | AVX512_VBMI = 0 | AVX512_VNNI = 0 | FMA = 1 | NEON = 0 | ARM_FMA = 0 | F16C = 1 | FP16_VA = 0 | WASM_SIMD = 0 | BLAS = 1 | SSE3 = 1 | SSSE3 = 1 | VSX = 0 | \n"
          ]
        }
      ]
    },
    {
      "cell_type": "code",
      "source": [
        "# Test with a prompt\n",
        "\n",
        "output = llm(\"Q: Name the planets in the solar system? A: \", max_tokens=100, stop=[\"Q:\", \"\\n\"], echo=True)\n",
        "print(output['choices'])"
      ],
      "metadata": {
        "colab": {
          "base_uri": "https://localhost:8080/"
        },
        "id": "W6sOa6-KbO5r",
        "outputId": "1e1b1086-25a7-4338-ffa1-5414d822a45a"
      },
      "execution_count": 17,
      "outputs": [
        {
          "output_type": "stream",
          "name": "stdout",
          "text": [
            "[{'text': 'Q: Name the planets in the solar system? A: 1. Sun, 2. Jupiter, 3. Pluto, 4. Saturn, 5. Mercury, 6. Neptune, 7. Mars, and 8. Venus.', 'index': 0, 'logprobs': None, 'finish_reason': 'stop'}]\n"
          ]
        }
      ]
    },
    {
      "cell_type": "code",
      "source": [
        "queries = [\n",
        "    \"You are a helpfull assistant that answers questions. The question can be about any type of trivia. You always answer in a short helpfull an polite manner. \\n What is the capital of Australia?\"\n",
        "]"
      ],
      "metadata": {
        "id": "_ocEUZ6K31hr"
      },
      "execution_count": 29,
      "outputs": []
    },
    {
      "cell_type": "code",
      "source": [
        "answers = []\n",
        "for query in queries:\n",
        "    output = llm(query, max_tokens = 128, echo = True)\n",
        "    answers.extend(output['choices'])"
      ],
      "metadata": {
        "colab": {
          "base_uri": "https://localhost:8080/"
        },
        "id": "J3pBvcW34cLM",
        "outputId": "34a7d8b9-fb41-441e-af96-1930a4ee6c38"
      },
      "execution_count": 30,
      "outputs": [
        {
          "output_type": "stream",
          "name": "stderr",
          "text": [
            "Llama.generate: prefix-match hit\n"
          ]
        }
      ]
    },
    {
      "cell_type": "code",
      "source": [
        "answers"
      ],
      "metadata": {
        "colab": {
          "base_uri": "https://localhost:8080/"
        },
        "id": "AOPKb0y-2bDx",
        "outputId": "d8f7b133-b26b-43a9-8ac7-cbd97599ce0b"
      },
      "execution_count": 31,
      "outputs": [
        {
          "output_type": "execute_result",
          "data": {
            "text/plain": [
              "[{'text': 'You are a helpfull assistant that answers questions. The question can be about any type of trivia. You always answer in a short helpfull an polite manner. \\n What is the capital of Australia?\\n Answer:  Canberra',\n",
              "  'index': 0,\n",
              "  'logprobs': None,\n",
              "  'finish_reason': 'stop'}]"
            ]
          },
          "metadata": {},
          "execution_count": 31
        }
      ]
    },
    {
      "cell_type": "code",
      "source": [
        "words = [b'man', b'king', b'dog', b'woman']\n",
        "tokens = [llm.tokenize(word) for word in words]\n",
        "\n",
        "add_tokens = lambda token1, token2: [1,token1[1] +token2[1]]\n",
        "\n",
        "llm.detokenize(add_tokens(tokens[0], tokens[3]))\n",
        "\n"
      ],
      "metadata": {
        "id": "Sr46MtY7hHvL",
        "colab": {
          "base_uri": "https://localhost:8080/"
        },
        "outputId": "8e0ddd0f-7b0d-4895-9cc2-f3894b6a6dc5"
      },
      "execution_count": 18,
      "outputs": [
        {
          "output_type": "execute_result",
          "data": {
            "text/plain": [
              "b'approxim'"
            ]
          },
          "metadata": {},
          "execution_count": 18
        }
      ]
    },
    {
      "cell_type": "code",
      "source": [
        "add_tokens(words[0], words[3])"
      ],
      "metadata": {
        "colab": {
          "base_uri": "https://localhost:8080/"
        },
        "id": "ia6Yq70ogv9S",
        "outputId": "0f26beab-09f4-4892-9221-cf36c5ce213c"
      },
      "execution_count": 57,
      "outputs": [
        {
          "output_type": "execute_result",
          "data": {
            "text/plain": [
              "[1, 208]"
            ]
          },
          "metadata": {},
          "execution_count": 57
        }
      ]
    },
    {
      "cell_type": "code",
      "source": [],
      "metadata": {
        "id": "3O92Zunpw7NR"
      },
      "execution_count": null,
      "outputs": []
    }
  ]
}